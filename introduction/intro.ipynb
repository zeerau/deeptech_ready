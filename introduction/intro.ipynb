{
 "cells": [
  {
   "cell_type": "code",
   "execution_count": 1,
   "metadata": {},
   "outputs": [
    {
     "name": "stdout",
     "output_type": "stream",
     "text": [
      "Weekly Coffee Expense: 1400\n"
     ]
    }
   ],
   "source": [
    "coffee_price = 200\n",
    "daily_expenses = coffee_price * 7\n",
    "print(\"Weekly Coffee Expense:\",\n",
    "daily_expenses)"
   ]
  },
  {
   "cell_type": "code",
   "execution_count": 2,
   "metadata": {},
   "outputs": [
    {
     "name": "stdout",
     "output_type": "stream",
     "text": [
      "Total Score: 160\n"
     ]
    }
   ],
   "source": [
    "math_score = 75\n",
    "science_score = 85\n",
    "total_score = math_score + science_score\n",
    "print(\"Total Score:\", total_score)"
   ]
  },
  {
   "cell_type": "code",
   "execution_count": 3,
   "metadata": {},
   "outputs": [
    {
     "name": "stdout",
     "output_type": "stream",
     "text": [
      "Hello Ahmed Welcome to Python!\n"
     ]
    }
   ],
   "source": [
    "name = \"Ahmed\"\n",
    "\n",
    "print(\"Hello\", name,\n",
    "\"Welcome to Python!\")"
   ]
  },
  {
   "cell_type": "code",
   "execution_count": 4,
   "metadata": {},
   "outputs": [
    {
     "name": "stdout",
     "output_type": "stream",
     "text": [
      "Full Name: Ahmed Dauda\n"
     ]
    }
   ],
   "source": [
    "first_name = \"Ahmed\"\n",
    "last_name = \"Dauda\"\n",
    "\n",
    "print(\"Full Name:\", first_name + \" \" +\n",
    "last_name)"
   ]
  },
  {
   "cell_type": "code",
   "execution_count": 5,
   "metadata": {},
   "outputs": [
    {
     "name": "stdout",
     "output_type": "stream",
     "text": [
      "Updated Shopping List: ['Milk', 'Eggs', 'Bread', 'Butter']\n",
      "Top Score: 90\n",
      "Average Score: 85.25\n",
      "Remaining Tasks: ['Debug program', 'Submit project']\n"
     ]
    }
   ],
   "source": [
    "shopping_list = [\"Milk\", \"Eggs\",\n",
    "\"Bread\"]\n",
    "shopping_list.append(\"Butter\")\n",
    "print(\"Updated Shopping List:\",\n",
    "shopping_list)\n",
    "\n",
    "scores = [85, 90, 78, 88]\n",
    "print(\"Top Score:\", max(scores))\n",
    "print(\"Average Score:\", sum(scores) /\n",
    "len(scores))\n",
    "\n",
    "tasks = [\"Write code\", \"Debug program\", \"Submit project\"]\n",
    "tasks.pop(0) # Remove completed task\n",
    "print(\"Remaining Tasks:\", tasks)"
   ]
  },
  {
   "cell_type": "code",
   "execution_count": 6,
   "metadata": {},
   "outputs": [
    {
     "name": "stdout",
     "output_type": "stream",
     "text": [
      "Current Task: Task 1\n",
      "Current Task: Task 2\n",
      "Current Task: Task 3\n",
      "Total Expense: 100\n",
      "Total Expense: 350\n",
      "Total Expense: 650\n",
      "5 x 1 = 5\n",
      "5 x 2 = 10\n",
      "5 x 3 = 15\n",
      "5 x 4 = 20\n",
      "5 x 5 = 25\n"
     ]
    }
   ],
   "source": [
    "tasks = [\"Task 1\", \"Task 2\", \"Task 3\"]\n",
    "for task in tasks:\n",
    "    print(\"Current Task:\", task)\n",
    "\n",
    "expenses = [100, 250,300]\n",
    "total = 0\n",
    "for expense in expenses:\n",
    "    total += expense\n",
    "    print(\"Total Expense:\",total)\n",
    "\n",
    "for i in range(1, 6):\n",
    "    print(f\"5 x {i} =\", 5 * i)"
   ]
  },
  {
   "cell_type": "code",
   "execution_count": 8,
   "metadata": {},
   "outputs": [
    {
     "name": "stdout",
     "output_type": "stream",
     "text": [
      "Countdown: 5\n",
      "Time’s up!\n",
      "Countdown: 4\n",
      "Time’s up!\n",
      "Countdown: 3\n",
      "Time’s up!\n",
      "Countdown: 2\n",
      "Time’s up!\n",
      "Countdown: 1\n",
      "Time’s up!\n",
      "Access granted!\n",
      "4\n",
      "6\n",
      "8\n",
      "10\n",
      "12\n"
     ]
    }
   ],
   "source": [
    "count = 5\n",
    "while count > 0:\n",
    "    print(\"Countdown:\",count)\n",
    "    count -= 1\n",
    "    print(\"Time’s up!\")\n",
    "\n",
    "password = \"\"\n",
    "while password != \"python123\":\n",
    "    password = input(\"Enter the correct password: \")\n",
    "    print(\"Access granted!\")\n",
    "\n",
    "num = 2\n",
    "while num <= 10:\n",
    "    num += 2\n",
    "    print(num)\n"
   ]
  },
  {
   "cell_type": "code",
   "execution_count": 9,
   "metadata": {},
   "outputs": [
    {
     "name": "stdout",
     "output_type": "stream",
     "text": [
      "5\n",
      "52\n",
      "40\n"
     ]
    }
   ],
   "source": [
    "my_list = [1, 2, 3, 4, 5]\n",
    "print(len(my_list))\n",
    "\n",
    "num_str = \"42\"\n",
    "num = int(num_str)\n",
    "print(num + 10)\n",
    "\n",
    "nums = [10, 20, 30, 40]\n",
    "print(max(nums))"
   ]
  },
  {
   "cell_type": "code",
   "execution_count": 10,
   "metadata": {},
   "outputs": [
    {
     "name": "stdout",
     "output_type": "stream",
     "text": [
      "Area: 50\n",
      "Is Positive: True\n",
      "Seconds: 7200\n"
     ]
    }
   ],
   "source": [
    "def rectangle_area(length, width):\n",
    "    area = length * width\n",
    "    return area\n",
    "print(\"Area:\",rectangle_area(10, 5))\n",
    "\n",
    "def is_positive(num):\n",
    "    return num > 0\n",
    "print(\"Is Positive:\", is_positive(10))\n",
    "\n",
    "\n",
    "def hours_to_seconds(hours):\n",
    "    conversion = hours * 3600\n",
    "    return conversion\n",
    "\n",
    "print(\"Seconds:\", hours_to_seconds(2))"
   ]
  },
  {
   "cell_type": "code",
   "execution_count": 11,
   "metadata": {},
   "outputs": [
    {
     "name": "stdout",
     "output_type": "stream",
     "text": [
      "16\n",
      "12\n",
      "20\n"
     ]
    }
   ],
   "source": [
    "square = lambda x: x ** 2\n",
    "\n",
    "print(square(4))\n",
    "\n",
    "add = lambda x, y: x + y\n",
    "print(add(5, 7))\n",
    "\n",
    "larger = lambda x, y: x if x > y else y\n",
    "print(larger(10, 20))"
   ]
  },
  {
   "cell_type": "code",
   "execution_count": 14,
   "metadata": {},
   "outputs": [
    {
     "name": "stdout",
     "output_type": "stream",
     "text": [
      "120\n",
      "5\n",
      "4\n",
      "3\n",
      "2\n",
      "1\n",
      "Blast off!\n",
      "None\n"
     ]
    }
   ],
   "source": [
    "def factorial(n):\n",
    "    if n == 0:\n",
    "\n",
    "        return 1\n",
    "\n",
    "    return n * factorial(n - 1)\n",
    "print(factorial(5))\n",
    "\n",
    "def countdown(n):\n",
    "    if n == 0:\n",
    "        print(\"Blast off!\")\n",
    "        return\n",
    "    print(n)\n",
    "    countdown(n - 1)\n",
    "\n",
    "print( countdown(5) )"
   ]
  },
  {
   "cell_type": "code",
   "execution_count": 15,
   "metadata": {},
   "outputs": [
    {
     "name": "stdout",
     "output_type": "stream",
     "text": [
      "[2, 4, 6, 8]\n",
      "24\n"
     ]
    }
   ],
   "source": [
    "nums = [1, 2, 3, 4]\n",
    "doubled = list(map(lambda x: x * 2,\n",
    "nums))\n",
    "print(doubled)\n",
    "\n",
    "from functools import reduce\n",
    "nums = [1, 2, 3, 4]\n",
    "product = reduce(lambda x, y: x * y,\n",
    "nums)\n",
    "print(product)"
   ]
  },
  {
   "cell_type": "code",
   "execution_count": 20,
   "metadata": {},
   "outputs": [
    {
     "name": "stdout",
     "output_type": "stream",
     "text": [
      "3\n",
      "2\n",
      "1\n",
      "0 1 2\n"
     ]
    }
   ],
   "source": [
    "def countdown(n):\n",
    "    while n > 0:\n",
    "        yield n\n",
    "        n -= 1\n",
    "for num in countdown(3):\n",
    "        print(num)\n",
    "\n",
    "def infinite_sequence():\n",
    "    n = 0\n",
    "    while True:\n",
    "        yield n\n",
    "        n += 1\n",
    "gen = infinite_sequence()\n",
    "print(next(gen), next(gen), next(gen))"
   ]
  },
  {
   "cell_type": "code",
   "execution_count": 21,
   "metadata": {},
   "outputs": [
    {
     "name": "stdout",
     "output_type": "stream",
     "text": [
      "Percentage: 85.0\n",
      "Hello Ahmed, Welcome to Python!\n",
      "Temperature in Fahrenheit: 86.0\n"
     ]
    }
   ],
   "source": [
    "def calculate_percentage(score, total):\n",
    "    return (score / total) * 100\n",
    "\n",
    "print(\"Percentage:\", calculate_percentage(85, 100))\n",
    "\n",
    "\n",
    "\n",
    "def greet_user(name):\n",
    "    return f\"Hello {name}, Welcome to Python!\"\n",
    "print(greet_user(\"Ahmed\"))\n",
    "\n",
    "\n",
    "\n",
    "def celsius_to_fahrenheit(celsius):\n",
    "    return (celsius * 9/5) + 32\n",
    "print(\"Temperature in Fahrenheit:\", celsius_to_fahrenheit(30))"
   ]
  },
  {
   "cell_type": "code",
   "execution_count": 22,
   "metadata": {},
   "outputs": [
    {
     "name": "stdout",
     "output_type": "stream",
     "text": [
      "Even Numbers: [2, 4]\n",
      "Doubled Numbers: [2, 4, 6, 8]\n"
     ]
    }
   ],
   "source": [
    "def find_evens(numbers):\n",
    "    return [num for num in numbers if num % 2 == 0]\n",
    "\n",
    "nums = [1, 2, 3, 4, 5]\n",
    "print(\"Even Numbers:\",\n",
    "find_evens(nums))\n",
    "\n",
    "def multiply_by_two(numbers):\n",
    "    return [num * 2 for num in numbers]\n",
    "\n",
    "nums = [1, 2, 3, 4]\n",
    "print(\"Doubled Numbers:\", multiply_by_two(nums))"
   ]
  },
  {
   "cell_type": "code",
   "execution_count": null,
   "metadata": {},
   "outputs": [],
   "source": []
  }
 ],
 "metadata": {
  "kernelspec": {
   "display_name": "datascience",
   "language": "python",
   "name": "python3"
  },
  "language_info": {
   "codemirror_mode": {
    "name": "ipython",
    "version": 3
   },
   "file_extension": ".py",
   "mimetype": "text/x-python",
   "name": "python",
   "nbconvert_exporter": "python",
   "pygments_lexer": "ipython3",
   "version": "3.11.10"
  }
 },
 "nbformat": 4,
 "nbformat_minor": 2
}
